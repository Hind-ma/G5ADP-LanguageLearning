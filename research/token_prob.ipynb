{
 "cells": [
  {
   "cell_type": "code",
   "execution_count": 1,
   "metadata": {},
   "outputs": [
    {
     "name": "stderr",
     "output_type": "stream",
     "text": [
      "c:\\Users\\mrmrk\\OneDrive\\Documents\\GitHub\\G5ADP-LanguageLearning\\research\\.venv\\lib\\site-packages\\tqdm\\auto.py:21: TqdmWarning: IProgress not found. Please update jupyter and ipywidgets. See https://ipywidgets.readthedocs.io/en/stable/user_install.html\n",
      "  from .autonotebook import tqdm as notebook_tqdm\n"
     ]
    }
   ],
   "source": [
    "from transformers import AutoTokenizer, AutoModelForCausalLM\n",
    "import torch\n"
   ]
  },
  {
   "cell_type": "code",
   "execution_count": 2,
   "metadata": {},
   "outputs": [],
   "source": [
    "device = \"cuda\" if torch.cuda.is_available() else \"cpu\""
   ]
  },
  {
   "cell_type": "code",
   "execution_count": 3,
   "metadata": {},
   "outputs": [],
   "source": [
    "tokenizer = AutoTokenizer.from_pretrained(\"AI-Sweden-Models/gpt-sw3-356m\")\n"
   ]
  },
  {
   "cell_type": "code",
   "execution_count": null,
   "metadata": {},
   "outputs": [],
   "source": []
  },
  {
   "cell_type": "code",
   "execution_count": 4,
   "metadata": {},
   "outputs": [],
   "source": [
    "vocab = tokenizer.get_vocab().keys()\n",
    "id2w =  {i:w for i,w in enumerate(vocab)}\n",
    "w2id = {w:i for i,w in enumerate(vocab)}"
   ]
  },
  {
   "cell_type": "code",
   "execution_count": 5,
   "metadata": {},
   "outputs": [],
   "source": [
    "model = AutoModelForCausalLM.from_pretrained(\"AI-Sweden-Models/gpt-sw3-356m\").to(device)"
   ]
  },
  {
   "cell_type": "code",
   "execution_count": 6,
   "metadata": {},
   "outputs": [
    {
     "data": {
      "text/plain": [
       "transformers.models.gpt2.modeling_gpt2.GPT2LMHeadModel"
      ]
     },
     "execution_count": 6,
     "metadata": {},
     "output_type": "execute_result"
    }
   ],
   "source": [
    "type(model)"
   ]
  },
  {
   "cell_type": "code",
   "execution_count": 7,
   "metadata": {},
   "outputs": [],
   "source": [
    "def calc_prob_text(start_text, continue_text):\n",
    "    continue_ids = tokenizer(continue_text, return_tensors=\"pt\")[\"input_ids\"][0]\n",
    "    start_ids = tokenizer(start_text, return_tensors=\"pt\")[\"input_ids\"][0]\n",
    "    prob = 1\n",
    "    for id in continue_ids:\n",
    "        with torch.no_grad():\n",
    "            logits = model(start_ids.unsqueeze(0), use_cache=True).logits[0,-1]\n",
    "        probs = torch.softmax(logits, dim = 0)\n",
    "        prob *= probs[id]\n",
    "        start_ids =  torch.cat((start_ids, id.unsqueeze(0)), dim=0)\n",
    "    return prob"
   ]
  },
  {
   "cell_type": "code",
   "execution_count": 8,
   "metadata": {},
   "outputs": [],
   "source": [
    "def calc_prob_text2(start_text, continue_text, end_text, goal_ratio):\n",
    "    continue_ids = tokenizer(continue_text, return_tensors=\"pt\")[\"input_ids\"][0].to(device)\n",
    "    start_ids = tokenizer(start_text, return_tensors=\"pt\")[\"input_ids\"][0].to(device)\n",
    "    end_ids = tokenizer(end_text, return_tensors=\"pt\")[\"input_ids\"][0].to(device)\n",
    "    all_ids = torch.cat((start_ids, continue_ids, end_ids))[:-1]\n",
    "    with torch.no_grad():\n",
    "        logits = model(all_ids.unsqueeze(0), use_cache=True).logits\n",
    "    logits = logits[0,-(continue_ids.shape[0] + end_ids.shape[0]):]\n",
    "    probs = torch.softmax(logits, dim = 1)\n",
    "    prob = probs[torch.arange(continue_ids.shape[0] + end_ids.shape[0]), torch.cat((continue_ids, end_ids))]\n",
    "    ratio = goal_ratio / (continue_ids.shape[0] / end_ids.shape[0]) \n",
    "    weights = torch.cat((torch.full(continue_ids.shape, ratio),(torch.ones_like(end_ids))))\n",
    "    weighed_probs = torch.pow(prob, weights)\n",
    "    exponent = 1 / torch.sum(weights)\n",
    "    suum = torch.sum(torch.log(weighed_probs))\n",
    "    final_log_prob = (suum * exponent)\n",
    "    return torch.exp(final_log_prob)"
   ]
  },
  {
   "cell_type": "code",
   "execution_count": 9,
   "metadata": {},
   "outputs": [
    {
     "name": "stdout",
     "output_type": "stream",
     "text": [
      "The good answer is 1.4754679298182363 times better than the bad answer\n"
     ]
    }
   ],
   "source": [
    "s = \"Jag brukar äta lunch runt\"\n",
    "e = \"på eftermiddagen\"\n",
    "good = calc_prob_text2(s, \"klockan halv två\", e, 1)\n",
    "bad = calc_prob_text2(s, \"klockan halv elva\", e, 1)\n",
    "print(\"The good answer is\", good.item() / bad.item(), \"times better than the bad answer\")"
   ]
  },
  {
   "cell_type": "code",
   "execution_count": 10,
   "metadata": {},
   "outputs": [
    {
     "name": "stdout",
     "output_type": "stream",
     "text": [
      "The good answer is 1.3650903230734268 times better than the bad answer\n"
     ]
    }
   ],
   "source": [
    "s = \"Jag brukar äta lunch runt\"\n",
    "e = \"på förmiddagen\"\n",
    "bad = calc_prob_text2(s, \"klockan halv två\", e, 1)\n",
    "good = calc_prob_text2(s, \"klockan halv elva\", e, 1)\n",
    "print(\"The good answer is\", good.item() / bad.item(), \"times better than the bad answer\")"
   ]
  },
  {
   "cell_type": "code",
   "execution_count": 11,
   "metadata": {},
   "outputs": [
    {
     "name": "stdout",
     "output_type": "stream",
     "text": [
      "The good answer is 12.932677657304243 times better than the bad answer\n"
     ]
    }
   ],
   "source": [
    "s = \"Jag brukar äta lunch runt\"\n",
    "e = \"på förmiddagen\"\n",
    "good = calc_prob_text2(s, \"klockan halv två\", e, 1)\n",
    "bad = calc_prob_text2(s, \"vid kyrkan\", e, 1)\n",
    "print(\"The good answer is\", good.item() / bad.item(), \"times better than the bad answer\")"
   ]
  }
 ],
 "metadata": {
  "kernelspec": {
   "display_name": ".venv",
   "language": "python",
   "name": "python3"
  },
  "language_info": {
   "codemirror_mode": {
    "name": "ipython",
    "version": 3
   },
   "file_extension": ".py",
   "mimetype": "text/x-python",
   "name": "python",
   "nbconvert_exporter": "python",
   "pygments_lexer": "ipython3",
   "version": "3.10.11"
  }
 },
 "nbformat": 4,
 "nbformat_minor": 2
}
